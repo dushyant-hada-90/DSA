{
 "cells": [
  {
   "cell_type": "markdown",
   "id": "37e13ce9",
   "metadata": {},
   "source": [
    "Binary Search to find X in sorted array"
   ]
  },
  {
   "cell_type": "code",
   "execution_count": 42,
   "id": "1e8c6b1a",
   "metadata": {},
   "outputs": [],
   "source": [
    "nums = [2,3,4,5,6,12,34,78]\n",
    "target = 13"
   ]
  },
  {
   "cell_type": "code",
   "execution_count": 43,
   "id": "795ebd8c",
   "metadata": {},
   "outputs": [
    {
     "name": "stdout",
     "output_type": "stream",
     "text": [
      "0 3 7\n",
      "4 5 7\n",
      "6 6 7\n"
     ]
    },
    {
     "data": {
      "text/plain": [
       "-1"
      ]
     },
     "execution_count": 43,
     "metadata": {},
     "output_type": "execute_result"
    }
   ],
   "source": [
    "# iterative\n",
    "def search(nums,target):\n",
    "    n=len(nums)\n",
    "    low,high=0,n-1\n",
    "\n",
    "    while low<=high:\n",
    "        mid=low+(high-low)//2\n",
    "        print(low,mid,high)\n",
    "        if nums[mid]==target:\n",
    "            return mid\n",
    "        elif nums[mid]>target:\n",
    "            high=mid-1\n",
    "        elif nums[mid]<target:\n",
    "            low=mid+1\n",
    "        else:\n",
    "            mid=-1\n",
    "            break\n",
    "    return -1\n",
    "search(nums,target)\n",
    "# log(n) base 2, o(1)"
   ]
  },
  {
   "cell_type": "code",
   "execution_count": 4,
   "id": "0645cacc",
   "metadata": {},
   "outputs": [
    {
     "name": "stdout",
     "output_type": "stream",
     "text": [
      "0 -1 -1\n",
      "-1\n"
     ]
    }
   ],
   "source": [
    "# recursive\n",
    "def search_outer(nums,target):\n",
    "    n=len(nums)\n",
    "    def search(nums,target,low,high):\n",
    "        mid=low+(high-low)//2\n",
    "        print(low,mid,high)\n",
    "        if low>high:\n",
    "            return -1\n",
    "        elif nums[mid]==target:\n",
    "            return mid\n",
    "        elif nums[mid]<target:\n",
    "            return search(nums,target,mid+1,high)\n",
    "        elif nums[mid]>target:\n",
    "            return search(nums,target,low,mid-1)\n",
    "    return search(nums,target,0,n-1)\n",
    "\n",
    "print(search_outer(nums,target))\n",
    "# log(n) base 2, o(1)"
   ]
  },
  {
   "cell_type": "markdown",
   "id": "1ad7b68b",
   "metadata": {},
   "source": [
    "Implement Lower Bound"
   ]
  },
  {
   "cell_type": "code",
   "execution_count": 6,
   "id": "55b5ba76",
   "metadata": {},
   "outputs": [],
   "source": [
    "# find lowest index in nums where we can insert x without breaking the sorted orders\n",
    "# nums[i]>=x\n",
    "nums= [1,2,2,3]\n",
    "x = 3"
   ]
  },
  {
   "cell_type": "code",
   "execution_count": 7,
   "id": "0a7e75a4",
   "metadata": {},
   "outputs": [
    {
     "data": {
      "text/plain": [
       "3"
      ]
     },
     "execution_count": 7,
     "metadata": {},
     "output_type": "execute_result"
    }
   ],
   "source": [
    "# iterative\n",
    "n=len(nums)\n",
    "low,high=0,n-1\n",
    "ans=n\n",
    "\n",
    "while low<=high:\n",
    "    mid=low+(high-low)//2\n",
    "    if nums[mid]>=x:\n",
    "        ans=mid\n",
    "        high=mid-1\n",
    "    else:\n",
    "        low=mid+1\n",
    "\n",
    "ans    \n",
    "\n",
    "# o(logn base 2),o(1)"
   ]
  },
  {
   "cell_type": "markdown",
   "id": "3cd7c4a8",
   "metadata": {},
   "source": [
    "upper bound"
   ]
  },
  {
   "cell_type": "code",
   "execution_count": 7,
   "id": "45bd31a0",
   "metadata": {},
   "outputs": [],
   "source": [
    "# lowest index where you can insert x such that all existing values equal to x come before it \n",
    "# nums[i]>x"
   ]
  },
  {
   "cell_type": "code",
   "execution_count": 3,
   "id": "ee7b8cb4",
   "metadata": {},
   "outputs": [],
   "source": [
    "nums= [1,2,3,5,67,100,100,302]\n",
    "x = 302"
   ]
  },
  {
   "cell_type": "code",
   "execution_count": 4,
   "id": "04df9a41",
   "metadata": {},
   "outputs": [
    {
     "name": "stdout",
     "output_type": "stream",
     "text": [
      "0 3 7 8\n",
      "4 5 7 8\n",
      "6 6 7 8\n",
      "7 7 7 8\n"
     ]
    },
    {
     "data": {
      "text/plain": [
       "8"
      ]
     },
     "execution_count": 4,
     "metadata": {},
     "output_type": "execute_result"
    }
   ],
   "source": [
    "# iterative\n",
    "n=len(nums)\n",
    "low,high=0,n-1\n",
    "ans=n\n",
    "\n",
    "while low<=high:\n",
    "    mid=low+(high-low)//2\n",
    "    print(low,mid,high,ans)\n",
    "    if nums[mid]>x:\n",
    "        ans=mid\n",
    "        high=mid-1\n",
    "    else:\n",
    "        low=mid+1 \n",
    "ans\n",
    "# o(logn base 2),o(1)"
   ]
  },
  {
   "cell_type": "markdown",
   "id": "30ddd782",
   "metadata": {},
   "source": [
    "Search insert position\n",
    "\n",
    "\n"
   ]
  },
  {
   "cell_type": "code",
   "execution_count": 10,
   "id": "61a2a287",
   "metadata": {},
   "outputs": [],
   "source": [
    "nums = [1, 3,5,6]\n",
    "target = 0"
   ]
  },
  {
   "cell_type": "code",
   "execution_count": 11,
   "id": "f3b832c2",
   "metadata": {},
   "outputs": [
    {
     "name": "stdout",
     "output_type": "stream",
     "text": [
      "0 1 3\n",
      "0 0 0\n"
     ]
    },
    {
     "data": {
      "text/plain": [
       "0"
      ]
     },
     "execution_count": 11,
     "metadata": {},
     "output_type": "execute_result"
    }
   ],
   "source": [
    "# iterative\n",
    "n=len(nums)\n",
    "low,high=0,n-1\n",
    "ans=n\n",
    "\n",
    "while low<=high:\n",
    "    mid=low+(high-low)//2\n",
    "    print(low,mid,high)\n",
    "    if nums[mid]>=target:\n",
    "        ans=mid\n",
    "        high=mid-1\n",
    "    elif nums[mid]<target:\n",
    "        low=mid+1\n",
    "ans\n",
    "# o(logn base 2),o(1)\n",
    "# same code as finding lower bound"
   ]
  },
  {
   "cell_type": "markdown",
   "id": "c0308166",
   "metadata": {},
   "source": [
    "Floor and Ceil in Sorted Array\n",
    "\n",
    "\n"
   ]
  },
  {
   "cell_type": "code",
   "execution_count": 12,
   "id": "4a23aa3a",
   "metadata": {},
   "outputs": [],
   "source": [
    "nums =[3, 4, 4, 7, 8, 10]\n",
    "x= 8"
   ]
  },
  {
   "cell_type": "code",
   "execution_count": 13,
   "id": "0fbafb66",
   "metadata": {},
   "outputs": [
    {
     "name": "stdout",
     "output_type": "stream",
     "text": [
      "0 2 5\n",
      "3 4 5\n"
     ]
    },
    {
     "data": {
      "text/plain": [
       "(8, 8)"
      ]
     },
     "execution_count": 13,
     "metadata": {},
     "output_type": "execute_result"
    }
   ],
   "source": [
    "n=len(nums)\n",
    "low,high=0,n-1\n",
    "floor=ceil=-1\n",
    "while low<=high:\n",
    "    mid=low+(high-low)//2\n",
    "    print(low,mid,high)\n",
    "    if nums[mid]==x:\n",
    "        floor=ceil=nums[mid]\n",
    "        break\n",
    "    elif nums[mid]>x:\n",
    "        ceil=nums[mid]\n",
    "        high=mid-1\n",
    "    elif nums[mid]<x:\n",
    "        floor=nums[mid]\n",
    "        low=mid+1\n",
    "floor,ceil"
   ]
  },
  {
   "cell_type": "markdown",
   "id": "2db01502",
   "metadata": {},
   "source": [
    "First and Last Occurrences in Array"
   ]
  },
  {
   "cell_type": "code",
   "execution_count": 32,
   "id": "6a72ee11",
   "metadata": {},
   "outputs": [],
   "source": [
    "nums = [2,8,8,8,8,8,11,13]\n",
    "target = 8\n",
    "n=len(nums)"
   ]
  },
  {
   "cell_type": "code",
   "execution_count": 33,
   "id": "94b91eb2",
   "metadata": {},
   "outputs": [
    {
     "data": {
      "text/plain": [
       "(1, 5, [2, 8, 8, 8, 8, 8, 11, 13])"
      ]
     },
     "execution_count": 33,
     "metadata": {},
     "output_type": "execute_result"
    }
   ],
   "source": [
    "# bsically, he is asking lower and upper bound-1 with some spcl checks\n",
    "low,high=0,n-1\n",
    "ans1=n\n",
    "\n",
    "\n",
    "while low<=high:\n",
    "    mid=low+(high-low)//2\n",
    "    if nums[mid]>=target:\n",
    "        ans1=mid\n",
    "        high=mid-1\n",
    "    else:\n",
    "        low=mid+1\n",
    "\n",
    "low,high=0,n-1\n",
    "ans2=n\n",
    "while low<=high:\n",
    "    mid=low+(high-low)//2\n",
    "    if nums[mid]>target:\n",
    "        ans2=mid\n",
    "        high=mid-1\n",
    "    else:\n",
    "        low=mid+1\n",
    "\n",
    "if ans1==n or nums[ans1] != target:\n",
    "    ans1=ans2=-1 \n",
    "else:\n",
    "    ans2-=1\n",
    "ans1,ans2,nums\n",
    "# 2*o(logn base 2),o(1)"
   ]
  },
  {
   "cell_type": "markdown",
   "id": "24ff2428",
   "metadata": {},
   "source": [
    "Count occurrences of a number in a sorted array with duplicates"
   ]
  },
  {
   "cell_type": "code",
   "execution_count": 34,
   "id": "5c81f9be",
   "metadata": {},
   "outputs": [],
   "source": [
    "nums = [2,8,8,8,8,8,11,13]\n",
    "target = 8\n",
    "n=len(nums)"
   ]
  },
  {
   "cell_type": "code",
   "execution_count": null,
   "id": "00197722",
   "metadata": {},
   "outputs": [
    {
     "data": {
      "text/plain": [
       "(5, [2, 8, 8, 8, 8, 8, 11, 13])"
      ]
     },
     "execution_count": 35,
     "metadata": {},
     "output_type": "execute_result"
    }
   ],
   "source": [
    "# bsically, he is asking last occurence-first occurence+1 =total occurence\n",
    "low,high=0,n-1\n",
    "ans1=n\n",
    "\n",
    "\n",
    "while low<=high:\n",
    "    mid=low+(high-low)//2\n",
    "    if nums[mid]>=target:\n",
    "        ans1=mid\n",
    "        high=mid-1\n",
    "    else:\n",
    "        low=mid+1\n",
    "\n",
    "low,high=0,n-1\n",
    "ans2=n\n",
    "while low<=high:\n",
    "    mid=low+(high-low)//2\n",
    "    if nums[mid]>target:\n",
    "        ans2=mid\n",
    "        high=mid-1\n",
    "    else:\n",
    "        low=mid+1\n",
    "\n",
    "if ans1==n or nums[ans1] != target:\n",
    "    ans1=ans2=-1 \n",
    "else:\n",
    "    ans2-=1\n",
    "ans2-ans1+1,nums\n",
    "# 2*o(logn base 2),o(1)"
   ]
  },
  {
   "cell_type": "markdown",
   "id": "545d046d",
   "metadata": {},
   "source": [
    "Search in Rotated Sorted Array I"
   ]
  },
  {
   "cell_type": "code",
   "execution_count": 41,
   "id": "4572886c",
   "metadata": {},
   "outputs": [],
   "source": [
    "# given that all elments are unique\n",
    "nums=[7,8,9,1,2,3,4,5,6]\n",
    "target=70\n",
    "n=len(nums)"
   ]
  },
  {
   "cell_type": "code",
   "execution_count": null,
   "id": "b04dcebe",
   "metadata": {},
   "outputs": [
    {
     "data": {
      "text/plain": [
       "-1"
      ]
     },
     "execution_count": 42,
     "metadata": {},
     "output_type": "execute_result"
    }
   ],
   "source": [
    "low,high=0,n-1\n",
    "ans=-1\n",
    "while low<=high:\n",
    "    mid=low+(high-low)//2\n",
    "    if nums[mid]==target:\n",
    "        ans=mid\n",
    "        break\n",
    "    elif nums[mid]<=nums[high]:\n",
    "        if nums[mid]<=target<=nums[high]:\n",
    "            low=mid+1\n",
    "        else:\n",
    "            high=mid-1\n",
    "    elif nums[low]<=nums[mid]:\n",
    "        if nums[low]<=target<=nums[mid]:\n",
    "            high=mid-1\n",
    "        else:\n",
    "            low=mid+1\n",
    "ans\n",
    "# o(logn),o(1)"
   ]
  },
  {
   "cell_type": "markdown",
   "id": "14db7272",
   "metadata": {},
   "source": [
    "Search in Rotated Sorted Array II"
   ]
  },
  {
   "cell_type": "code",
   "execution_count": 43,
   "id": "13cd5bb7",
   "metadata": {},
   "outputs": [],
   "source": [
    "# Given the array nums after the rotation and an integer target, return true if target is in nums, or false if it is not in nums.\n",
    "nums=[3,3,1,3,3,3,3,3]\n",
    "target=1\n",
    "n=len(nums)"
   ]
  },
  {
   "cell_type": "code",
   "execution_count": null,
   "id": "fee2eba7",
   "metadata": {},
   "outputs": [
    {
     "data": {
      "text/plain": [
       "2"
      ]
     },
     "execution_count": 45,
     "metadata": {},
     "output_type": "execute_result"
    }
   ],
   "source": [
    "low,high=0,n-1\n",
    "ans=False\n",
    "while low<=high:\n",
    "    mid=low+(high-low)//2\n",
    "    if nums[mid]==target:\n",
    "        ans=True\n",
    "        break\n",
    "    elif nums[low]==nums[mid]==nums[high]:\n",
    "        low+=1\n",
    "        high-=1\n",
    "    elif nums[mid]<=nums[high]:\n",
    "        if nums[mid]<=target<=nums[high]:\n",
    "            low=mid+1\n",
    "        else:\n",
    "            high=mid-1\n",
    "    elif nums[low]<=nums[mid]:\n",
    "        if nums[low]<=target<=nums[mid]:\n",
    "            high=mid-1\n",
    "        else:\n",
    "            low=mid+1\n",
    "ans\n",
    "# o(logn base 2) generally else in worst case it can be o(n/2),o(1)"
   ]
  },
  {
   "cell_type": "markdown",
   "id": "8c634ae7",
   "metadata": {},
   "source": [
    "Minimum in Rotated Sorted Array"
   ]
  },
  {
   "cell_type": "code",
   "execution_count": 56,
   "id": "239ceee4",
   "metadata": {},
   "outputs": [],
   "source": [
    "# Given the sorted rotated array nums of unique elements, return the minimum element of this array\n",
    "nums=[7,8,9,10,11,12,13,1,2,3,4,5,6]\n",
    "n=len(nums)"
   ]
  },
  {
   "cell_type": "code",
   "execution_count": 57,
   "id": "ffc6d1d8",
   "metadata": {},
   "outputs": [
    {
     "name": "stdout",
     "output_type": "stream",
     "text": [
      "0 6 12 inf\n",
      "7 9 12 7\n",
      "breaking\n"
     ]
    },
    {
     "data": {
      "text/plain": [
       "1"
      ]
     },
     "execution_count": 57,
     "metadata": {},
     "output_type": "execute_result"
    }
   ],
   "source": [
    "low,high=0,n-1\n",
    "ans=float(\"inf\")\n",
    "while low<=high:\n",
    "    mid=low+(high-low)//2\n",
    "    print(low,mid,high,ans)\n",
    "    if nums[low]<=nums[mid]<=nums[high]:\n",
    "        ans=nums[low]\n",
    "        print(\"breaking\")\n",
    "        break\n",
    "    if nums[low]<=nums[mid]:\n",
    "        ans=min(ans,nums[low])\n",
    "        low=mid+1\n",
    "    elif nums[mid]<=nums[high]:\n",
    "        ans=min(ans,nums[mid])\n",
    "        high=mid-1\n",
    "ans\n",
    "# o(logn),o(1)"
   ]
  },
  {
   "cell_type": "markdown",
   "id": "3db1ad40",
   "metadata": {},
   "source": [
    "Find out how many times has an array been rotated"
   ]
  },
  {
   "cell_type": "code",
   "execution_count": null,
   "id": "0c844652",
   "metadata": {},
   "outputs": [],
   "source": [
    "# Given an integer array nums of size n, sorted in ascending order with distinct values. The array has been right rotated an unknown number of times, between 0 and n-1 (including). Determine the number of rotations performed on the array.\n",
    "# assuming all elements are distinct\n",
    "nums=[7,8,9,10,11,12,13,1,2,3,4,5,6]\n",
    "n=len(nums)"
   ]
  },
  {
   "cell_type": "code",
   "execution_count": 63,
   "id": "3d8c5443",
   "metadata": {},
   "outputs": [
    {
     "name": "stdout",
     "output_type": "stream",
     "text": [
      "0 6 12 inf\n",
      "7 9 12 inf\n"
     ]
    },
    {
     "data": {
      "text/plain": [
       "7"
      ]
     },
     "execution_count": 63,
     "metadata": {},
     "output_type": "execute_result"
    }
   ],
   "source": [
    "low,high=0,n-1\n",
    "ans=float(\"inf\")\n",
    "while low<=high:\n",
    "    mid=low+(high-low)//2\n",
    "    print(low,mid,high,ans)\n",
    "    if nums[low]<=nums[mid]<=nums[high]:\n",
    "        ans=nums[low]\n",
    "        index=low\n",
    "        break\n",
    "    if nums[low]<=nums[mid]:\n",
    "        if nums[low]>ans:\n",
    "            ans=nums[low]\n",
    "            index=low\n",
    "        low=mid+1\n",
    "    elif nums[mid]<=nums[high]:\n",
    "        if nums[mid]<ans:\n",
    "            ans=nums[mid]\n",
    "            index=mid\n",
    "        high=mid-1\n",
    "index\n",
    "# o(logn),o(1)"
   ]
  },
  {
   "cell_type": "markdown",
   "id": "da0bec43",
   "metadata": {},
   "source": [
    "Single element in a Sorted Array"
   ]
  },
  {
   "cell_type": "code",
   "execution_count": 65,
   "id": "937c0f84",
   "metadata": {},
   "outputs": [],
   "source": [
    "# Return the single element that appears only once.\n",
    "# You are given a sorted array consisting of only integers where every element appears exactly twice, except for one element which appears exactly once.\n",
    "nums = [1,1,2,3,3,4,4,8,8]\n",
    "n=len(nums)"
   ]
  },
  {
   "cell_type": "code",
   "execution_count": 69,
   "id": "14a9b7be",
   "metadata": {},
   "outputs": [
    {
     "data": {
      "text/plain": [
       "2"
      ]
     },
     "execution_count": 69,
     "metadata": {},
     "output_type": "execute_result"
    }
   ],
   "source": [
    "low,high=1,n-2\n",
    "if n==1:\n",
    "    ans=nums[0]\n",
    "elif nums[0]!=nums[1]:\n",
    "    ans=nums[0]\n",
    "elif nums[-1]!=nums[-2]:\n",
    "    ans=nums[-1]\n",
    "else:\n",
    "    while low<=high:\n",
    "        mid=low+(high-low)//2\n",
    "        if nums[mid]!=nums[mid+1] and nums[mid]!=nums[mid-1]:\n",
    "            ans=nums[mid]\n",
    "            break\n",
    "        elif mid%2!=0:\n",
    "            if nums[mid]==nums[mid-1]:\n",
    "                # eliminate left half\n",
    "                low=mid+1\n",
    "            else:\n",
    "                # eliminate right half\n",
    "                high=mid-1\n",
    "        elif mid%2==0:\n",
    "            if nums[mid]==nums[mid+1]:\n",
    "                # eliminate left half\n",
    "                low=mid+2\n",
    "            else:\n",
    "                # eliminate right half\n",
    "                high=mid-1\n",
    "ans\n",
    "# o(logn base 2),o(1)"
   ]
  },
  {
   "cell_type": "markdown",
   "id": "e655e957",
   "metadata": {},
   "source": [
    "Find Peak Element"
   ]
  },
  {
   "cell_type": "code",
   "execution_count": 15,
   "id": "7f0a474f",
   "metadata": {},
   "outputs": [],
   "source": [
    "# A peak element is an element that is strictly greater than its neighbors.Given a 0-indexed integer array nums, find a peak element, and return its index. If the array contains multiple peaks, return the index to any of the peaks.\n",
    "nums = [2,4,0,4,2]\n",
    "n=len(nums)"
   ]
  },
  {
   "cell_type": "code",
   "execution_count": null,
   "id": "eae8b0ed",
   "metadata": {},
   "outputs": [
    {
     "name": "stdout",
     "output_type": "stream",
     "text": [
      "1 2 3\n",
      "1 1 1\n"
     ]
    },
    {
     "data": {
      "text/plain": [
       "1"
      ]
     },
     "execution_count": 16,
     "metadata": {},
     "output_type": "execute_result"
    }
   ],
   "source": [
    "if n==1 or nums[0]>nums[1]:\n",
    "    ans=0\n",
    "elif nums[-1]>nums[-2] :\n",
    "    ans=n-1\n",
    "else:\n",
    "    low,high=1,n-2\n",
    "    while low<=high:\n",
    "        mid=low+(high-low)//2\n",
    "        print(low,mid,high)\n",
    "        if nums[mid+1]<nums[mid]>nums[mid-1]:\n",
    "            ans=mid\n",
    "            break\n",
    "        elif nums[mid-1]>nums[mid]:\n",
    "            high=mid-1\n",
    "        elif nums[mid-1]<nums[mid]:\n",
    "            low=mid+1\n",
    "ans\n",
    "# o(logn base 2),o(1)"
   ]
  },
  {
   "cell_type": "markdown",
   "id": "db774ef4",
   "metadata": {},
   "source": [
    "Find square root of a number in log n"
   ]
  },
  {
   "cell_type": "code",
   "execution_count": 9,
   "id": "332602bc",
   "metadata": {},
   "outputs": [],
   "source": [
    "n = 1"
   ]
  },
  {
   "cell_type": "code",
   "execution_count": null,
   "id": "3d9a06d6",
   "metadata": {},
   "outputs": [
    {
     "name": "stdout",
     "output_type": "stream",
     "text": [
      "0 0 1\n",
      "1 1 1\n"
     ]
    },
    {
     "data": {
      "text/plain": [
       "1"
      ]
     },
     "execution_count": 10,
     "metadata": {},
     "output_type": "execute_result"
    }
   ],
   "source": [
    "low,high=0,n\n",
    "ans=-1\n",
    "while low<=high:\n",
    "    mid=low+(high-low)//2\n",
    "    print(low,mid,high)\n",
    "    if mid*mid==n:\n",
    "        ans=mid\n",
    "        break\n",
    "    elif mid*mid>n:\n",
    "        high=mid-1\n",
    "    elif mid*mid<n:\n",
    "        ans=mid\n",
    "        low=mid+1\n",
    "ans\n",
    "# o(logn base 2),o(1)"
   ]
  },
  {
   "cell_type": "markdown",
   "id": "8302d9c2",
   "metadata": {},
   "source": [
    "Find Nth root of a number"
   ]
  },
  {
   "cell_type": "code",
   "execution_count": 2,
   "id": "6aa1d1b7",
   "metadata": {},
   "outputs": [],
   "source": [
    "N , M =3, 27"
   ]
  },
  {
   "cell_type": "code",
   "execution_count": null,
   "id": "74573a39",
   "metadata": {},
   "outputs": [
    {
     "data": {
      "text/plain": [
       "3"
      ]
     },
     "execution_count": 5,
     "metadata": {},
     "output_type": "execute_result"
    }
   ],
   "source": [
    "low,high=0,M\n",
    "while low<=high:\n",
    "    mid=low+(high-low)//2\n",
    "    pdt=1\n",
    "    for i in range(N):\n",
    "        pdt*=mid\n",
    "    if pdt==M:\n",
    "        high=mid\n",
    "        break\n",
    "    elif pdt>M:\n",
    "        high=mid-1\n",
    "    else:\n",
    "        low=mid+1\n",
    "high\n",
    "\n"
   ]
  }
 ],
 "metadata": {
  "kernelspec": {
   "display_name": "base",
   "language": "python",
   "name": "python3"
  },
  "language_info": {
   "codemirror_mode": {
    "name": "ipython",
    "version": 3
   },
   "file_extension": ".py",
   "mimetype": "text/x-python",
   "name": "python",
   "nbconvert_exporter": "python",
   "pygments_lexer": "ipython3",
   "version": "3.12.7"
  }
 },
 "nbformat": 4,
 "nbformat_minor": 5
}
