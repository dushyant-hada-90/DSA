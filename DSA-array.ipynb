{
 "cells": [
  {
   "cell_type": "markdown",
   "id": "9b3978dd",
   "metadata": {},
   "source": [
    "Left Rotate An Array By K Places"
   ]
  },
  {
   "cell_type": "code",
   "execution_count": 58,
   "id": "06609606",
   "metadata": {},
   "outputs": [],
   "source": [
    "array=[1,2,3,4,5,6,7]\n",
    "k=2\n",
    "n=len(array)\n",
    "k=k%n\n",
    "rem=n-k"
   ]
  },
  {
   "cell_type": "code",
   "execution_count": 57,
   "id": "eca65e9f",
   "metadata": {},
   "outputs": [
    {
     "data": {
      "text/plain": [
       "[3, 4, 5, 6, 7, 1, 2]"
      ]
     },
     "execution_count": 57,
     "metadata": {},
     "output_type": "execute_result"
    }
   ],
   "source": [
    "temp=[]\n",
    "for i in range(k):\n",
    "    temp.append(array[i])\n",
    "for i in range(k,n):\n",
    "    array[i-k]=array[i]\n",
    "for i in range(k):\n",
    "    array[rem+i]=temp[i]\n",
    "array\n",
    "#  n,k"
   ]
  },
  {
   "cell_type": "code",
   "execution_count": 43,
   "id": "ae20168d",
   "metadata": {},
   "outputs": [
    {
     "name": "stdout",
     "output_type": "stream",
     "text": [
      "1\n",
      "2\n"
     ]
    },
    {
     "data": {
      "text/plain": [
       "[3, 4, 5, 6, 7, 1, 2]"
      ]
     },
     "execution_count": 43,
     "metadata": {},
     "output_type": "execute_result"
    }
   ],
   "source": [
    "for i in range(k):\n",
    "    temp=array[0]\n",
    "    print(temp)\n",
    "    array.remove(array[0])\n",
    "    array.append(temp)\n",
    "array\n",
    "# n*k,1"
   ]
  },
  {
   "cell_type": "code",
   "execution_count": 60,
   "id": "49cb344e",
   "metadata": {},
   "outputs": [
    {
     "data": {
      "text/plain": [
       "[5, 6, 7, 1, 2, 3, 4]"
      ]
     },
     "execution_count": 60,
     "metadata": {},
     "output_type": "execute_result"
    }
   ],
   "source": [
    "for i in range(k):\n",
    "    array.append(array[i]) #space taken increases for time being\n",
    "for i in range(n):\n",
    "    array[i]=array[i+k]\n",
    "for i in range(k):\n",
    "    array.pop()\n",
    "array\n",
    "# n,n+k"
   ]
  },
  {
   "cell_type": "code",
   "execution_count": 59,
   "id": "63898e03",
   "metadata": {},
   "outputs": [
    {
     "data": {
      "text/plain": [
       "[3, 4, 5, 6, 7, 1, 2]"
      ]
     },
     "execution_count": 59,
     "metadata": {},
     "output_type": "execute_result"
    }
   ],
   "source": [
    "l,r=0,k-1\n",
    "while l<=r:\n",
    "    array[l],array[r]=array[r],array[l]\n",
    "    l+=1\n",
    "    r-=1\n",
    "l,r=k,n-1\n",
    "while l<=r:\n",
    "    array[l],array[r]=array[r],array[l]\n",
    "    l+=1\n",
    "    r-=1\n",
    "l,r=0,n-1\n",
    "while l<=r:\n",
    "    array[l],array[r]=array[r],array[l]\n",
    "    l+=1\n",
    "    r-=1\n",
    "\n",
    "array"
   ]
  },
  {
   "cell_type": "markdown",
   "id": "a58a6618",
   "metadata": {},
   "source": [
    "Move Zeros to End"
   ]
  },
  {
   "cell_type": "code",
   "execution_count": 84,
   "id": "9b03788f",
   "metadata": {},
   "outputs": [],
   "source": [
    "array=[0,1,2,3,4,0,5,0,3,0,0,0,12,0]\n",
    "n=len(array)"
   ]
  },
  {
   "cell_type": "code",
   "execution_count": 79,
   "id": "4ae5e98d",
   "metadata": {},
   "outputs": [
    {
     "data": {
      "text/plain": [
       "[1, 2, 3, 4, 5, 3, 12, 0, 0, 0, 0, 0, 0, 0]"
      ]
     },
     "execution_count": 79,
     "metadata": {},
     "output_type": "execute_result"
    }
   ],
   "source": [
    "temp=[]\n",
    "num_zeros=0\n",
    "for i in range(n):\n",
    "    if array[i]==0:\n",
    "        num_zeros+=1\n",
    "        continue\n",
    "    temp.append(array[i])\n",
    "for i in range(num_zeros):\n",
    "    temp.append(0)\n",
    "for i in range(n):\n",
    "    array[i]=temp[i]\n",
    "array\n",
    "# o(n),o(n)"
   ]
  },
  {
   "cell_type": "code",
   "execution_count": null,
   "id": "36f92a58",
   "metadata": {},
   "outputs": [
    {
     "data": {
      "text/plain": [
       "[1, 2, 3, 4, 5, 3, 12, 0, 0, 0, 0, 0, 0, 0]"
      ]
     },
     "execution_count": 76,
     "metadata": {},
     "output_type": "execute_result"
    }
   ],
   "source": [
    "i,j=0,0\n",
    "num_zeros=0\n",
    "while j<n:\n",
    "    if array[j]==0:\n",
    "        num_zeros+=1\n",
    "        j+=1\n",
    "    else:\n",
    "        array[i]=array[j]\n",
    "        i+=1\n",
    "        j+=1\n",
    "num_non_zero=n-num_zeros\n",
    "for i in range(num_zeros):\n",
    "    array[num_non_zero+i]=0\n",
    "array\n",
    "\n",
    "# o(n),o(1)\n"
   ]
  },
  {
   "cell_type": "code",
   "execution_count": 91,
   "id": "b10afe47",
   "metadata": {},
   "outputs": [
    {
     "data": {
      "text/plain": [
       "[1, 2, 3]"
      ]
     },
     "execution_count": 91,
     "metadata": {},
     "output_type": "execute_result"
    }
   ],
   "source": [
    "j=-1\n",
    "for i in range(len(array)):\n",
    "    if array[i]==0:\n",
    "        j=i\n",
    "        break\n",
    "if j!=-1:\n",
    "    for i in range(j,n):\n",
    "        if array[i]==0:\n",
    "            continue\n",
    "        else:\n",
    "            array[i],array[j]=array[j],array[i]\n",
    "            j+=1\n",
    "\n",
    "\n",
    "array\n",
    "# o(n),o(1)\n"
   ]
  },
  {
   "cell_type": "markdown",
   "id": "dd0e5162",
   "metadata": {},
   "source": [
    "Union of two sorted arrays\n"
   ]
  },
  {
   "cell_type": "code",
   "execution_count": 196,
   "id": "058959f8",
   "metadata": {},
   "outputs": [],
   "source": [
    "arr1=[1,2,3,4,5]\n",
    "arr2 = [2,2,24,5,90]\n",
    "n1=len(arr1)\n",
    "n2=len(arr2)"
   ]
  },
  {
   "cell_type": "code",
   "execution_count": 184,
   "id": "9bb53c65",
   "metadata": {},
   "outputs": [
    {
     "data": {
      "text/plain": [
       "[1, 2]"
      ]
     },
     "execution_count": 184,
     "metadata": {},
     "output_type": "execute_result"
    }
   ],
   "source": [
    "s=set(arr1+arr2)\n",
    "l=list(s)\n",
    "l\n",
    "# o(n1+n2),o(n1+n2)"
   ]
  },
  {
   "cell_type": "code",
   "execution_count": 193,
   "id": "9112cf3f",
   "metadata": {},
   "outputs": [
    {
     "data": {
      "text/plain": [
       "[2]"
      ]
     },
     "execution_count": 193,
     "metadata": {},
     "output_type": "execute_result"
    }
   ],
   "source": [
    "union=[]\n",
    "i,j=0,0\n",
    "while i < n1 and j<n2:\n",
    "    if (len(union)!=0 and union[-1]==arr1[i]  ):\n",
    "        i+=1\n",
    "        continue\n",
    "    elif  ( len(union)!=0 and union[-1]==arr2[j] ):\n",
    "        j+=1\n",
    "        continue\n",
    "    elif arr1[i]<=arr2[j] :\n",
    "        union.append(arr1[i])\n",
    "        i+=1\n",
    "    elif arr1[i]>arr2[j] :\n",
    "        union.append(arr2[j])\n",
    "        j+=1\n",
    "        \n",
    "\n",
    "\n",
    "\n",
    "while i<n1:\n",
    "    if (len(union)==0 or union[-1]!=arr1[i]):\n",
    "        union.append(arr1[i])\n",
    "    i+=1\n",
    "while j<n2 :\n",
    "    if (len(union)==0 or union[-1]!=arr2[j]):\n",
    "        union.append(arr2[j])\n",
    "    j+=1\n",
    "union\n",
    "# o(n1+n2),o(n1+n2)"
   ]
  },
  {
   "cell_type": "markdown",
   "id": "f77d44a7",
   "metadata": {},
   "source": [
    "Intersection of two sorted arrays\n"
   ]
  },
  {
   "cell_type": "code",
   "execution_count": 222,
   "id": "a3959583",
   "metadata": {},
   "outputs": [],
   "source": [
    "arr1=[2]\n",
    "arr2 = [2,2,2,2]\n",
    "n1=len(arr1)\n",
    "n2=len(arr2)"
   ]
  },
  {
   "cell_type": "code",
   "execution_count": 202,
   "id": "8139a41e",
   "metadata": {},
   "outputs": [
    {
     "data": {
      "text/plain": [
       "([1, 0, 0, 0, 0], [2])"
      ]
     },
     "execution_count": 202,
     "metadata": {},
     "output_type": "execute_result"
    }
   ],
   "source": [
    "visited=[]\n",
    "ans=[]\n",
    "for i in range(n2):\n",
    "    visited.append(0)\n",
    "for i in range(n1):\n",
    "    for j in range(n2):\n",
    "        if arr1[i]==arr2[j] and visited[j]==0:\n",
    "            ans.append(arr1[i])\n",
    "            visited[j]=1\n",
    "            break\n",
    "        if arr2[j]>arr1[i]:\n",
    "            break\n",
    "\n",
    "visited,ans\n",
    "# o(n1*n2),o(n2+n2) or o(n1+n1) \n",
    "# it makes sense to visit samller array in inner loop to reduce the space complexity"
   ]
  },
  {
   "cell_type": "code",
   "execution_count": null,
   "id": "44551e6c",
   "metadata": {},
   "outputs": [
    {
     "data": {
      "text/plain": [
       "[2]"
      ]
     },
     "execution_count": 223,
     "metadata": {},
     "output_type": "execute_result"
    }
   ],
   "source": [
    "i,j=0,0\n",
    "result=[]\n",
    "while i<n1 and j<n2:\n",
    "    if i>0 and arr1[i]==arr1[i-1]:\n",
    "        i+=1\n",
    "        continue\n",
    "    elif arr1[i]==arr2[j]:\n",
    "        result.append(arr1[i])\n",
    "        i+=1\n",
    "        j+=1\n",
    "        \n",
    "    elif arr1[i]<arr2[j]:\n",
    "        i+=1\n",
    "    else:\n",
    "        j+=1\n",
    "result\n",
    "# o(n1+n2),o(n)for returning the answer but no extra space created"
   ]
  },
  {
   "cell_type": "markdown",
   "id": "12810986",
   "metadata": {},
   "source": [
    "Find missing number\n"
   ]
  },
  {
   "cell_type": "code",
   "execution_count": 12,
   "id": "f021ea3c",
   "metadata": {},
   "outputs": [],
   "source": [
    "nums = [0, 1, 2, 4, 5, 6]\n",
    "n=len(nums)"
   ]
  },
  {
   "cell_type": "code",
   "execution_count": null,
   "id": "d4023494",
   "metadata": {},
   "outputs": [
    {
     "data": {
      "text/plain": [
       "3"
      ]
     },
     "execution_count": 25,
     "metadata": {},
     "output_type": "execute_result"
    }
   ],
   "source": [
    "for i in range(n+1):\n",
    "    found=False\n",
    "    for j in nums:\n",
    "        if i==j:\n",
    "            found=True\n",
    "            break\n",
    "    if found == True:\n",
    "        continue\n",
    "    else:\n",
    "        number=i\n",
    "        break\n",
    "number\n",
    "# o(n**2),o(1)\n",
    "    "
   ]
  },
  {
   "cell_type": "code",
   "execution_count": null,
   "id": "f5c34450",
   "metadata": {},
   "outputs": [
    {
     "data": {
      "text/plain": [
       "3"
      ]
     },
     "execution_count": 7,
     "metadata": {},
     "output_type": "execute_result"
    }
   ],
   "source": [
    "hash=[]\n",
    "for i in range(n+1):\n",
    "    hash.append(0)\n",
    "for i in range(n):\n",
    "    hash[nums[i]]=1\n",
    "for i in range(n+1):\n",
    "    if hash[i]==0:\n",
    "        number=i\n",
    "        break\n",
    "\n",
    "number\n",
    "# o(n),o(n)"
   ]
  },
  {
   "cell_type": "code",
   "execution_count": 18,
   "id": "30d41842",
   "metadata": {},
   "outputs": [
    {
     "data": {
      "text/plain": [
       "3"
      ]
     },
     "execution_count": 18,
     "metadata": {},
     "output_type": "execute_result"
    }
   ],
   "source": [
    "s=(n)*(n+1)//2\n",
    "s_nums=0\n",
    "for i in nums:\n",
    "    s_nums+=i\n",
    "number=s-s_nums\n",
    "number\n",
    "# o(n),o(1)"
   ]
  },
  {
   "cell_type": "code",
   "execution_count": 19,
   "id": "34bbf02f",
   "metadata": {},
   "outputs": [
    {
     "data": {
      "text/plain": [
       "3"
      ]
     },
     "execution_count": 19,
     "metadata": {},
     "output_type": "execute_result"
    }
   ],
   "source": [
    "xor1=0\n",
    "for i in range(n+1):\n",
    "    xor1=xor1^i\n",
    "xor2=0\n",
    "for i in range(n):\n",
    "    xor2=xor2^nums[i]\n",
    "xor1^xor2"
   ]
  },
  {
   "cell_type": "markdown",
   "id": "f0d64808",
   "metadata": {},
   "source": [
    "Maximum Consecutive Ones\n"
   ]
  },
  {
   "cell_type": "code",
   "execution_count": 37,
   "id": "d82eb181",
   "metadata": {},
   "outputs": [],
   "source": [
    "nums = [1,1]\n",
    "n=len(nums)"
   ]
  },
  {
   "cell_type": "code",
   "execution_count": 40,
   "id": "9bcd2518",
   "metadata": {},
   "outputs": [
    {
     "data": {
      "text/plain": [
       "2"
      ]
     },
     "execution_count": 40,
     "metadata": {},
     "output_type": "execute_result"
    }
   ],
   "source": [
    "j=0\n",
    "ans=0\n",
    "while j<n:\n",
    "    counter=0\n",
    "    while j<n and nums[j]==1 :\n",
    "     \n",
    "        counter+=1\n",
    "        j+=1\n",
    "    j+=1\n",
    "    ans=max(ans,counter)\n",
    "ans\n",
    "# o(n),o(1)"
   ]
  },
  {
   "cell_type": "markdown",
   "id": "e3707db3",
   "metadata": {},
   "source": [
    " Every integer in the array appears twice except one integer. Find the number that appeared once in the array."
   ]
  },
  {
   "cell_type": "code",
   "execution_count": 23,
   "id": "9385b785",
   "metadata": {},
   "outputs": [],
   "source": [
    "nums = [5]\n",
    "n=len(nums)"
   ]
  },
  {
   "cell_type": "code",
   "execution_count": null,
   "id": "210f420b",
   "metadata": {},
   "outputs": [
    {
     "data": {
      "text/plain": [
       "5"
      ]
     },
     "execution_count": 16,
     "metadata": {},
     "output_type": "execute_result"
    }
   ],
   "source": [
    "for i in range(n):\n",
    "    found=False\n",
    "    for j in range(n):\n",
    "        if nums[i]==nums[j] and i!=j:\n",
    "            found=True\n",
    "            break\n",
    "    if found==False:\n",
    "        number=nums[i]\n",
    "        break\n",
    "number\n",
    "# o(n*n),o(1)"
   ]
  },
  {
   "cell_type": "code",
   "execution_count": 28,
   "id": "d670395e",
   "metadata": {},
   "outputs": [
    {
     "data": {
      "text/plain": [
       "5"
      ]
     },
     "execution_count": 28,
     "metadata": {},
     "output_type": "execute_result"
    }
   ],
   "source": [
    "hash=[]\n",
    "max_element=max(nums)\n",
    "for i in range(max_element+1):\n",
    "    hash.append(1)\n",
    "for i in nums:\n",
    "    hash[i]*=-1\n",
    "for i in range(n):\n",
    "    if hash[i]==-1:\n",
    "        number=i\n",
    "number\n",
    "# o(n),o(n) where n is max_element"
   ]
  },
  {
   "cell_type": "code",
   "execution_count": 19,
   "id": "e9609e33",
   "metadata": {},
   "outputs": [
    {
     "data": {
      "text/plain": [
       "5"
      ]
     },
     "execution_count": 19,
     "metadata": {},
     "output_type": "execute_result"
    }
   ],
   "source": [
    "xor1=0\n",
    "for i in range(n):\n",
    "    xor1=xor1^nums[i]\n",
    "xor1\n",
    "# o(n),o(1)"
   ]
  },
  {
   "cell_type": "markdown",
   "id": "72666de8",
   "metadata": {},
   "source": [
    "Longest subarray with sum K\n"
   ]
  },
  {
   "cell_type": "code",
   "execution_count": 14,
   "id": "1ee6e15e",
   "metadata": {},
   "outputs": [
    {
     "data": {
      "text/plain": [
       "3"
      ]
     },
     "execution_count": 14,
     "metadata": {},
     "output_type": "execute_result"
    }
   ],
   "source": [
    "number=0\n",
    "for i in range(n):\n",
    "    s=0\n",
    "    for j in range(i,n):\n",
    "        if s>k:\n",
    "            break \n",
    "        s+=nums[j]  \n",
    "        if s==k:\n",
    "            new_num=j-i+1\n",
    "            number=max(number,new_num)\n",
    "            break\n",
    "number\n",
    "# o(sigma(1 to n-1)),o(1)"
   ]
  },
  {
   "cell_type": "code",
   "execution_count": 55,
   "id": "4256c110",
   "metadata": {},
   "outputs": [],
   "source": [
    "nums = [1, 2, 0,0, 2,5 ,1]\n",
    "k = 7\n",
    "n=len(nums)"
   ]
  },
  {
   "cell_type": "code",
   "execution_count": 66,
   "id": "39ccf64f",
   "metadata": {},
   "outputs": [
    {
     "name": "stdout",
     "output_type": "stream",
     "text": [
      "c\n",
      "{1: 0}\n",
      "c\n",
      "{1: 0, 3: 1}\n",
      "c\n",
      "{1: 0, 3: 1, 5: 4}\n",
      "b\n",
      "3\n",
      "c\n",
      "{1: 0, 3: 1, 5: 4, 10: 5}\n",
      "c\n",
      "{1: 0, 3: 1, 5: 4, 10: 5, 11: 6}\n"
     ]
    },
    {
     "data": {
      "text/plain": [
       "4"
      ]
     },
     "execution_count": 66,
     "metadata": {},
     "output_type": "execute_result"
    }
   ],
   "source": [
    "hash_map={}\n",
    "s=0\n",
    "ans=0\n",
    "for i in range(n):\n",
    "    s+=nums[i]\n",
    "    \n",
    "   \n",
    "    if s==k:\n",
    "        print(\"a\")\n",
    "        ans=max(ans,i+1)\n",
    "    if s-k in hash_map:\n",
    "        print(\"b\")\n",
    "        print(s-k)\n",
    "        got=hash_map[s-k]\n",
    "        ans=max(ans,i-got)\n",
    "    if s not in hash_map:\n",
    "        print(\"c\")\n",
    "        hash_map[s]=i\n",
    "        print(hash_map)\n",
    "ans\n",
    "# o(n),o(n)"
   ]
  },
  {
   "cell_type": "markdown",
   "id": "659706e1",
   "metadata": {},
   "source": [
    "Two Sum"
   ]
  },
  {
   "cell_type": "code",
   "execution_count": 25,
   "id": "b518379a",
   "metadata": {},
   "outputs": [],
   "source": [
    "nums = [7, 2, 11, 15]\n",
    "target = 17\n",
    "n=len(nums)"
   ]
  },
  {
   "cell_type": "code",
   "execution_count": 19,
   "id": "ca47b8b9",
   "metadata": {},
   "outputs": [
    {
     "data": {
      "text/plain": [
       "[3, 4]"
      ]
     },
     "execution_count": 19,
     "metadata": {},
     "output_type": "execute_result"
    }
   ],
   "source": [
    "for i in range(n):\n",
    "    for j in range(i+1,n):\n",
    "        # print([i],[j],target)\n",
    "        if (nums[i]+nums[j])==target :\n",
    "            number=[i,j]\n",
    "            break\n",
    "        else:\n",
    "            number=-1\n",
    "    if number!=-1:\n",
    "        break\n",
    "\n",
    "number\n",
    "# o(sigma 1 to (n-1)),o(1)"
   ]
  },
  {
   "cell_type": "code",
   "execution_count": 3,
   "id": "ddb562c7",
   "metadata": {},
   "outputs": [
    {
     "name": "stdout",
     "output_type": "stream",
     "text": [
      "-1\n",
      "0\n"
     ]
    },
    {
     "data": {
      "text/plain": [
       "[0, 1]"
      ]
     },
     "execution_count": 3,
     "metadata": {},
     "output_type": "execute_result"
    }
   ],
   "source": [
    "my_dict={}\n",
    "for i in range(n):\n",
    "    complement=target-nums[i]\n",
    "    got=my_dict.get(complement,-1)\n",
    "    print(got)\n",
    "    if got!=-1:\n",
    "        number=[got,i]\n",
    "        break\n",
    "    my_dict[nums[i]]=i\n",
    "number\n",
    "# o(n),o(n)"
   ]
  },
  {
   "cell_type": "code",
   "execution_count": null,
   "id": "3bfc010c",
   "metadata": {},
   "outputs": [
    {
     "name": "stdout",
     "output_type": "stream",
     "text": [
      "[7, 2, 11, 15]\n"
     ]
    },
    {
     "data": {
      "text/plain": [
       "[1, 3]"
      ]
     },
     "execution_count": 27,
     "metadata": {},
     "output_type": "execute_result"
    }
   ],
   "source": [
    "new=sorted(nums)\n",
    "print(nums)\n",
    "l,r=0,n-1\n",
    "number=-1\n",
    "while l<r:\n",
    "    s=new[l]+new[r]\n",
    "    if s==target:\n",
    "        number=[]\n",
    "        for i in range(n):\n",
    "            if nums[i]==new[l] or nums[i]==new[r]:\n",
    "                number.append(i)\n",
    "        break\n",
    "    elif s<target:\n",
    "        l+=1\n",
    "    else:\n",
    "        r-=1\n",
    "\n",
    "number\n",
    "# o(nlogn)+o(n),0(n)"
   ]
  },
  {
   "cell_type": "markdown",
   "id": "55329aed",
   "metadata": {},
   "source": [
    "Sort an array of 0's 1's and 2's\n"
   ]
  },
  {
   "cell_type": "code",
   "execution_count": 111,
   "id": "408994a6",
   "metadata": {},
   "outputs": [],
   "source": [
    "nums = [1, 0, 2, 1, 0]\n",
    "n=len(nums)"
   ]
  },
  {
   "cell_type": "code",
   "execution_count": null,
   "id": "0b796d61",
   "metadata": {},
   "outputs": [],
   "source": [
    "# brute force: sorting algo\n",
    "# o(nlogn),o(n)"
   ]
  },
  {
   "cell_type": "code",
   "execution_count": null,
   "id": "829857b6",
   "metadata": {},
   "outputs": [
    {
     "data": {
      "text/plain": [
       "[0, 0, 1, 1, 2]"
      ]
     },
     "execution_count": 42,
     "metadata": {},
     "output_type": "execute_result"
    }
   ],
   "source": [
    "count=[0,0,0]\n",
    "for i in range(n):\n",
    "    count[nums[i]]+=1\n",
    "for i in range(n):\n",
    "    if i<count[0]:\n",
    "        nums[i]=0\n",
    "    elif i<count[1]+count[0]:\n",
    "        nums[i]=1\n",
    "    else:\n",
    "        nums[i]=2\n",
    "nums\n",
    "# o(n),o(1)"
   ]
  },
  {
   "cell_type": "code",
   "execution_count": 118,
   "id": "ac475ad3",
   "metadata": {},
   "outputs": [
    {
     "name": "stdout",
     "output_type": "stream",
     "text": [
      "1615070 [0, 0, 1, 1, 2] 0 0 4\n",
      "1615070 [0, 0, 1, 1, 2] 1 1 4\n",
      "1615070 [0, 0, 1, 1, 2] 2 2 4\n",
      "1615070 [0, 0, 1, 1, 2] 2 3 4\n",
      "1615070 [0, 0, 1, 1, 2] 2 4 4\n"
     ]
    },
    {
     "data": {
      "text/plain": [
       "[0, 0, 1, 1, 2]"
      ]
     },
     "execution_count": 118,
     "metadata": {},
     "output_type": "execute_result"
    }
   ],
   "source": [
    "# dutch national flag\n",
    "low,mid=0,0\n",
    "high=n-1\n",
    "\n",
    "while mid<=high:\n",
    "    print(i,nums,low,mid,high)\n",
    "    if nums[mid]==0:\n",
    "        # swap with low\n",
    "        nums[mid],nums[low]=nums[low],nums[mid]\n",
    "        low+=1\n",
    "        mid+=1\n",
    "       \n",
    "    elif nums[mid]==1:\n",
    "        # do nothing\n",
    "        mid+=1\n",
    "    elif nums[mid]==2:\n",
    "        nums[mid],nums[high]=nums[high],nums[mid]\n",
    "        high-=1\n",
    "    \n",
    "nums\n",
    "# o(n),o(1)"
   ]
  },
  {
   "cell_type": "markdown",
   "id": "b36451d2",
   "metadata": {},
   "source": [
    "Majority Element-I\n",
    "(majorit>n/2 and guarnteed)"
   ]
  },
  {
   "cell_type": "code",
   "execution_count": 149,
   "id": "dfe61957",
   "metadata": {},
   "outputs": [],
   "source": [
    "nums = [7, 0, 0, 1, 7, 7, 2, 7, 7]\n",
    "n=len(nums)"
   ]
  },
  {
   "cell_type": "code",
   "execution_count": 148,
   "id": "6e230cd2",
   "metadata": {},
   "outputs": [
    {
     "name": "stdout",
     "output_type": "stream",
     "text": [
      "{7: 5, 0: 2, 1: 1, 2: 1}\n"
     ]
    },
    {
     "data": {
      "text/plain": [
       "7"
      ]
     },
     "execution_count": 148,
     "metadata": {},
     "output_type": "execute_result"
    }
   ],
   "source": [
    "my_dict={}\n",
    "for i in range(n):\n",
    "    my_dict[nums[i]]=my_dict.get(nums[i],0)+1\n",
    "print(my_dict)\n",
    "ans=0\n",
    "for key,value in my_dict.items():\n",
    "    if value>n/2:\n",
    "        num=key\n",
    "num\n",
    "# o(n),o(n)"
   ]
  },
  {
   "cell_type": "code",
   "execution_count": 153,
   "id": "a9875a69",
   "metadata": {},
   "outputs": [
    {
     "data": {
      "text/plain": [
       "7"
      ]
     },
     "execution_count": 153,
     "metadata": {},
     "output_type": "execute_result"
    }
   ],
   "source": [
    "# Moore's Voting Algorithm\n",
    "count=0\n",
    "\n",
    "for i in range(n):\n",
    "    if count==0:\n",
    "        ans=nums[i]\n",
    "    if nums[i]==ans:\n",
    "        count+=1\n",
    "    else:\n",
    "        count-=1\n",
    "ans\n",
    "# if having a majority element is not guaranteed then do a o(n) check for entire array to find count of ans is greater tha n/2 \n",
    "# o(n),o(1)"
   ]
  },
  {
   "cell_type": "markdown",
   "id": "6c333ab0",
   "metadata": {},
   "source": [
    "Kadane's Algorithm\n"
   ]
  },
  {
   "cell_type": "code",
   "execution_count": 8,
   "id": "f87d35f7",
   "metadata": {},
   "outputs": [
    {
     "data": {
      "text/plain": [
       "-2"
      ]
     },
     "execution_count": 8,
     "metadata": {},
     "output_type": "execute_result"
    }
   ],
   "source": [
    "ans=float('-inf')\n",
    "for i in range(n):\n",
    "    s=0\n",
    "    for j in range(i,n):\n",
    "        s+=nums[j]\n",
    "        ans=max(s,ans)\n",
    "        # print(i,j,s,ans)\n",
    "ans\n",
    "# 0(sigma 1 to (n)),o(1)"
   ]
  },
  {
   "cell_type": "code",
   "execution_count": 49,
   "id": "bc25d136",
   "metadata": {},
   "outputs": [],
   "source": [
    "nums = [-2, -3, -7, -2, -10, -4]\n",
    "n=len(nums)"
   ]
  },
  {
   "cell_type": "code",
   "execution_count": 51,
   "id": "8e2115b0",
   "metadata": {},
   "outputs": [
    {
     "data": {
      "text/plain": [
       "(-2, [])"
      ]
     },
     "execution_count": 51,
     "metadata": {},
     "output_type": "execute_result"
    }
   ],
   "source": [
    "# Kadane's algorithm\n",
    "m=float('-inf')\n",
    "s=0\n",
    "for i in range(n):\n",
    "    # print(\"in\",s,m,i,nums[i])\n",
    "    if s==0:\n",
    "        # print(\"initializzed\")\n",
    "        start=i\n",
    "    s+=nums[i]\n",
    "    if s>m:\n",
    "        end=i\n",
    "        # print(\"cont.\")\n",
    "    m=max(m,s)\n",
    "    s=max(s,0)\n",
    "    # print(\"out\",s,m,i,nums[i])\n",
    "\n",
    "m,nums[start:end+1]\n",
    "# o(n),o(1)\n"
   ]
  },
  {
   "cell_type": "markdown",
   "id": "b1552bac",
   "metadata": {},
   "source": [
    "Stock Buy and Sell"
   ]
  },
  {
   "cell_type": "code",
   "execution_count": 53,
   "id": "b332ddf2",
   "metadata": {},
   "outputs": [],
   "source": [
    "arr = [10, 7, 5, 8, 11, 9]\n",
    "n=len(arr)"
   ]
  },
  {
   "cell_type": "code",
   "execution_count": null,
   "id": "680d97b6",
   "metadata": {},
   "outputs": [
    {
     "data": {
      "text/plain": [
       "(2, 4, 6)"
      ]
     },
     "execution_count": 54,
     "metadata": {},
     "output_type": "execute_result"
    }
   ],
   "source": [
    "profit=0\n",
    "for i in range(n):\n",
    "    buy=arr[i]\n",
    "    for j in range(i+1,n):\n",
    "        sell=arr[j]\n",
    "        diff=sell-buy\n",
    "        if diff>profit:\n",
    "            profit=diff\n",
    "            on,off=i,j\n",
    "on,off,profit\n",
    "# o(sigma 1 to n),o(1)"
   ]
  },
  {
   "cell_type": "code",
   "execution_count": null,
   "id": "ab23fd2b",
   "metadata": {},
   "outputs": [
    {
     "data": {
      "text/plain": [
       "6"
      ]
     },
     "execution_count": 55,
     "metadata": {},
     "output_type": "execute_result"
    }
   ],
   "source": [
    "mini=arr[0]\n",
    "profit=0\n",
    "for i in range(1,n):\n",
    "    cost=arr[i]-mini\n",
    "    profit=max(cost,profit)\n",
    "    mini=min(mini,arr[i])\n",
    "profit\n",
    "# o(n),0(1)"
   ]
  },
  {
   "cell_type": "markdown",
   "id": "89161903",
   "metadata": {},
   "source": [
    "Rearrange the array in alternating positive and negative items"
   ]
  },
  {
   "cell_type": "code",
   "execution_count": 69,
   "id": "7accf7a5",
   "metadata": {},
   "outputs": [],
   "source": [
    "nums = [2, 4, 5, -1, -3, -4]\n",
    "n=len(nums)"
   ]
  },
  {
   "cell_type": "code",
   "execution_count": 72,
   "id": "8a43859b",
   "metadata": {},
   "outputs": [
    {
     "data": {
      "text/plain": [
       "[2, -1, 4, -3, 5, -4]"
      ]
     },
     "execution_count": 72,
     "metadata": {},
     "output_type": "execute_result"
    }
   ],
   "source": [
    "pos=[i for i in nums if i>0]\n",
    "neg=[i for i in nums if i<0]\n",
    "for i in range(int(n/2)):\n",
    "    nums[2*i]=pos[i]\n",
    "for i in range(int(n/2)):\n",
    "    nums[2*i+1]=neg[i]\n",
    "arr\n",
    "# o(n)+o(n/2),o(n)"
   ]
  },
  {
   "cell_type": "code",
   "execution_count": null,
   "id": "ede5bfc6",
   "metadata": {},
   "outputs": [
    {
     "data": {
      "text/plain": [
       "[2, -1, 4, -3, 5, -4]"
      ]
     },
     "execution_count": 71,
     "metadata": {},
     "output_type": "execute_result"
    }
   ],
   "source": [
    "pos=[i for i in nums if i>0]\n",
    "neg=[i for i in nums if i<0]\n",
    "for i in range(n):\n",
    "    if i%2==0:\n",
    "        nums[i]=pos[i//2]\n",
    "    if i%2!=0:\n",
    "        nums[i]=neg[i//2]\n",
    "nums\n",
    "# o(n),o(n)"
   ]
  },
  {
   "cell_type": "markdown",
   "id": "e9d250cc",
   "metadata": {},
   "source": [
    "\n",
    "Next Permutation"
   ]
  },
  {
   "cell_type": "code",
   "execution_count": 182,
   "id": "4cca32ca",
   "metadata": {},
   "outputs": [],
   "source": [
    "arr=[2,3,1,3,3]\n",
    "n=len(arr)"
   ]
  },
  {
   "cell_type": "code",
   "execution_count": null,
   "id": "fbaea013",
   "metadata": {},
   "outputs": [
    {
     "name": "stdout",
     "output_type": "stream",
     "text": [
      "2\n",
      "j: 4\n",
      "4\n",
      "[2, 3, 3, 3, 1]\n"
     ]
    },
    {
     "data": {
      "text/plain": [
       "[2, 3, 3, 1, 3]"
      ]
     },
     "execution_count": 186,
     "metadata": {},
     "output_type": "execute_result"
    }
   ],
   "source": [
    "nums=arr[:]\n",
    "def swap(l,r,arr):\n",
    "    while l<=r:\n",
    "        arr[l],arr[r]=arr[r],arr[l]\n",
    "        l+=1\n",
    "        r-=1\n",
    "\n",
    "i=n-1\n",
    "while i>=0:\n",
    "    if i==0:\n",
    "        swap(0,n-1,nums)\n",
    "        break\n",
    "    else:\n",
    "        if nums[i]>nums[i-1]:\n",
    "            pivot=i-1\n",
    "            break\n",
    "    i-=1\n",
    "\n",
    "if i!=0:\n",
    "    print(pivot)\n",
    "    mini=float(\"inf\")\n",
    "    j=n-1\n",
    "    while j>pivot:\n",
    "        if nums[j]>nums[pivot] and nums[j]<mini:\n",
    "            print(\"j:\",j)\n",
    "            mini=nums[j]\n",
    "            mini_index=j\n",
    "        j-=1\n",
    "    mini=mini_index\n",
    "    print(mini)\n",
    "    nums[mini],nums[pivot]=nums[pivot],nums[mini]\n",
    "    print(nums)\n",
    "    swap(pivot+1,n-1,nums)\n",
    "# mai toh mar gya bahiya \n",
    "nums"
   ]
  },
  {
   "cell_type": "markdown",
   "id": "cbb20975",
   "metadata": {},
   "source": [
    "Leaders in an Array\n",
    "\n",
    "\n"
   ]
  },
  {
   "cell_type": "code",
   "execution_count": 188,
   "id": "cc83184b",
   "metadata": {},
   "outputs": [],
   "source": [
    "nums=[1,2,5,3,1,2]\n",
    "n=len(nums)"
   ]
  },
  {
   "cell_type": "code",
   "execution_count": null,
   "id": "2b606ab8",
   "metadata": {},
   "outputs": [
    {
     "data": {
      "text/plain": [
       "[5, 3, 2]"
      ]
     },
     "execution_count": 189,
     "metadata": {},
     "output_type": "execute_result"
    }
   ],
   "source": [
    "leaders=[]\n",
    "for i in range(n):\n",
    "    flag=True\n",
    "    for j in range(i+1,n):\n",
    "        if nums[j]>nums[i]:\n",
    "            flag=False\n",
    "            break\n",
    "    if flag==True:\n",
    "        leaders.append(nums[i])\n",
    "leaders\n",
    "# o(sigma 1 to n),o(n) for returning the answer but no extra space , where n is number of leaders"
   ]
  },
  {
   "cell_type": "code",
   "execution_count": null,
   "id": "b8bf96cd",
   "metadata": {},
   "outputs": [
    {
     "data": {
      "text/plain": [
       "[5, 3, 2]"
      ]
     },
     "execution_count": 192,
     "metadata": {},
     "output_type": "execute_result"
    }
   ],
   "source": [
    "leaders=[]\n",
    "leaders.append(nums[-1])\n",
    "i=n-2\n",
    "max_num=nums[-1]\n",
    "while i>=0:\n",
    "    if nums[i]>max_num:\n",
    "        max_num=nums[i]\n",
    "        leaders.append(nums[i])\n",
    "    i-=1\n",
    "swap(0,len(leaders)-1,leaders)\n",
    "leaders\n",
    "# o(n),o(n) for returning the answer but no extra space , where n is number of leaders"
   ]
  },
  {
   "cell_type": "markdown",
   "id": "e4ed3f5c",
   "metadata": {},
   "source": [
    "Longest Consecutive Sequence in an Array\n",
    "\n",
    "\n"
   ]
  },
  {
   "cell_type": "code",
   "execution_count": 22,
   "id": "dfd49f3e",
   "metadata": {},
   "outputs": [],
   "source": [
    "nums=[1, 2, 2, 3]\n",
    "n=len(nums)"
   ]
  },
  {
   "cell_type": "code",
   "execution_count": 12,
   "id": "7f6cb00c",
   "metadata": {},
   "outputs": [
    {
     "name": "stdout",
     "output_type": "stream",
     "text": [
      "0\n",
      "counter: 3\n",
      "1\n",
      "counter: 1\n",
      "2\n",
      "counter: 3\n",
      "3\n",
      "counter: 2\n",
      "4\n",
      "counter: 2\n",
      "5\n",
      "counter: 1\n",
      "6\n",
      "counter: 2\n",
      "7\n",
      "counter: 3\n",
      "8\n",
      "counter: 2\n",
      "9\n",
      "counter: 3\n",
      "10\n",
      "counter: 4\n",
      "11\n",
      "counter: 4\n",
      "12\n",
      "counter: 4\n",
      "13\n",
      "counter: 3\n"
     ]
    },
    {
     "data": {
      "text/plain": [
       "4"
      ]
     },
     "execution_count": 12,
     "metadata": {},
     "output_type": "execute_result"
    }
   ],
   "source": [
    "max_count=1\n",
    "i=0\n",
    "while i<n:\n",
    "    j=0\n",
    "    print(i)\n",
    "    counter=1\n",
    "    num=nums[i]\n",
    "    while j <(n):\n",
    "        if nums[j]==num+1:\n",
    "            counter+=1\n",
    "            num+=1\n",
    "            j=0\n",
    "        else:\n",
    "            j+=1\n",
    "    print(\"counter:\",counter)\n",
    "    max_count=max(counter,max_count)\n",
    "    i+=1\n",
    "max_count\n",
    "# o(n**2),o(1)"
   ]
  },
  {
   "cell_type": "code",
   "execution_count": 14,
   "id": "04e481ae",
   "metadata": {},
   "outputs": [
    {
     "name": "stdout",
     "output_type": "stream",
     "text": [
      "[1, 2, 2, 3]\n",
      "1 1 1 1\n",
      "2 1 2 2\n",
      "2 1 3 3\n",
      "3 3 1 3\n"
     ]
    },
    {
     "data": {
      "text/plain": [
       "3"
      ]
     },
     "execution_count": 14,
     "metadata": {},
     "output_type": "execute_result"
    }
   ],
   "source": [
    "min_item=float(\"-inf\")\n",
    "nums.sort()\n",
    "print(nums)\n",
    "ans=0\n",
    "counter=1\n",
    "for i in range(n):\n",
    "    if nums[i]==min_item+1:\n",
    "        counter+=1\n",
    "    elif nums[i]>min_item:\n",
    "        counter=1\n",
    "        min_item=nums[i]\n",
    "    ans=max(counter,ans)\n",
    "    print(nums[i],min_item,counter,ans)\n",
    "ans\n",
    "# o(nlogn)+o(n), o(1)"
   ]
  },
  {
   "cell_type": "code",
   "execution_count": null,
   "id": "1c785eaa",
   "metadata": {},
   "outputs": [
    {
     "data": {
      "text/plain": [
       "3"
      ]
     },
     "execution_count": 25,
     "metadata": {},
     "output_type": "execute_result"
    }
   ],
   "source": [
    "s=set(nums)\n",
    "ans=0\n",
    "for i in s:\n",
    "    if i-1 not in s:\n",
    "        num_start=i\n",
    "        counter=1\n",
    "        while num_start+1 in s:\n",
    "            counter+=1\n",
    "            num_start+=1\n",
    "        ans=max(ans,counter)\n",
    "ans\n",
    "# o(n) because set lookup is o(1), o(n) where n is the number of unique elements in nums"
   ]
  },
  {
   "cell_type": "markdown",
   "id": "8a393e06",
   "metadata": {},
   "source": [
    "Set Matrix Zeroes"
   ]
  },
  {
   "cell_type": "code",
   "execution_count": 13,
   "id": "e63f12b1",
   "metadata": {},
   "outputs": [],
   "source": [
    "matrix=[[-1],[2],[3]]\n",
    "n=len(matrix)\n",
    "m=len(matrix[0])"
   ]
  },
  {
   "cell_type": "code",
   "execution_count": null,
   "id": "bac54218",
   "metadata": {},
   "outputs": [
    {
     "name": "stdout",
     "output_type": "stream",
     "text": [
      "0 0\n",
      "1 0\n",
      "2 0\n"
     ]
    },
    {
     "data": {
      "text/plain": [
       "[[-1], [2], [3]]"
      ]
     },
     "execution_count": 11,
     "metadata": {},
     "output_type": "execute_result"
    }
   ],
   "source": [
    "def mark_row(i):\n",
    "    for iterate in range(m):\n",
    "        if matrix[i][iterate]!=0:\n",
    "            matrix[i][iterate]=\"x\"\n",
    "def mark_col(j):\n",
    "    for iterate in range(n):\n",
    "        if matrix[i][iterate]!=0:\n",
    "            matrix[iterate][j]=\"x\"\n",
    "\n",
    "\n",
    "for i in range(len(matrix)):\n",
    "    for j in range(len(matrix[i])):\n",
    "        print(i,j)\n",
    "        if matrix[i][j]==0:\n",
    "            mark_row(i)\n",
    "            mark_col(j)\n",
    "\n",
    "for i in range(len(matrix)):\n",
    "    for j in range(len(matrix[i])):\n",
    "        if matrix[i][j]==\"x\":\n",
    "           matrix[i][j]=0\n",
    "matrix\n",
    "\n",
    "# o(n*m*(r+c)) where r=no. of rows containing 0 and similar for columns,0(1)  "
   ]
  },
  {
   "cell_type": "code",
   "execution_count": null,
   "id": "52c529c2",
   "metadata": {},
   "outputs": [
    {
     "name": "stdout",
     "output_type": "stream",
     "text": [
      "0 0\n",
      "1 0\n",
      "2 0\n",
      "[] []\n",
      "0 0\n",
      "1 0\n",
      "2 0\n"
     ]
    }
   ],
   "source": [
    "row=set()\n",
    "column=set()\n",
    "for i in range(len(matrix)):\n",
    "    for j in range(len(matrix[i])):\n",
    "        print(i,j)\n",
    "\n",
    "        if matrix[i][j]==0:\n",
    "            row.add(i)\n",
    "            column.add(j)\n",
    "print(row,column)\n",
    "for i in range(len(matrix)):\n",
    "    for j in range(len(matrix[i])):\n",
    "        print(i,j)\n",
    "        if i in row or j in column: #o(1) set lookup\n",
    "            matrix[i][j]=0\n",
    "# o(n*m),o(n+m) if all rows and all columns have at least zero"
   ]
  },
  {
   "cell_type": "code",
   "execution_count": 32,
   "id": "623797f2",
   "metadata": {},
   "outputs": [
    {
     "name": "stdout",
     "output_type": "stream",
     "text": [
      "0 0\n",
      "1 0\n",
      "2 0\n"
     ]
    }
   ],
   "source": [
    "col=None\n",
    "for i in range(len(matrix)):\n",
    "    for j in range(len(matrix[i])):\n",
    "        print(i,j)\n",
    "\n",
    "        if matrix[i][j]==0:\n",
    "            matrix[i][0]=0\n",
    "            if j==0:\n",
    "                col=0\n",
    "            else:\n",
    "                matrix[0][j]=0\n",
    "i=n-1\n",
    "while i>0:\n",
    "        j=m-1\n",
    "        while j>0:\n",
    "            print(i,j)\n",
    "            if matrix[i][0]==0 or matrix[0][j]==0:\n",
    "                matrix[i][j]=0\n",
    "            j-=1\n",
    "        i-=1\n",
    "if matrix[0][0]==0:\n",
    "     for j in range(m):\n",
    "          matrix[0][j]=0\n",
    "if col==0:\n",
    "     for i in range(n):\n",
    "          matrix[i][0]=0\n",
    "          \n",
    "\n",
    "# o(n*m),o(1) "
   ]
  },
  {
   "cell_type": "markdown",
   "id": "7215bcc9",
   "metadata": {},
   "source": [
    "Rotate Matrix/Image by 90 Degrees"
   ]
  },
  {
   "cell_type": "code",
   "execution_count": 52,
   "id": "388a3958",
   "metadata": {},
   "outputs": [],
   "source": [
    "matrix = [[1,2,3],\n",
    "          [4,5,6],\n",
    "          [7,8,9]]\n",
    "n=len(matrix)\n"
   ]
  },
  {
   "cell_type": "code",
   "execution_count": 53,
   "id": "4c51de63",
   "metadata": {},
   "outputs": [
    {
     "data": {
      "text/plain": [
       "[[7, 4, 1], [8, 5, 2], [9, 6, 3]]"
      ]
     },
     "execution_count": 53,
     "metadata": {},
     "output_type": "execute_result"
    }
   ],
   "source": [
    "ans=[]\n",
    "for i in range(n):\n",
    "    ans.append([\"x\" for j in range(n)])\n",
    "for i in range(n):\n",
    "    for j in range(n):\n",
    "        ans[j][n-i-1]=matrix[i][j]\n",
    "ans\n",
    "# o(n**2),o(n**2)"
   ]
  },
  {
   "cell_type": "code",
   "execution_count": null,
   "id": "b4fdaefa",
   "metadata": {},
   "outputs": [
    {
     "name": "stdout",
     "output_type": "stream",
     "text": [
      "1 0\n",
      "2 0\n",
      "2 1\n"
     ]
    },
    {
     "data": {
      "text/plain": [
       "[[7, 4, 1], [8, 5, 2], [9, 6, 3]]"
      ]
     },
     "execution_count": 54,
     "metadata": {},
     "output_type": "execute_result"
    }
   ],
   "source": [
    "for i in range(n):\n",
    "    for j in range(n):\n",
    "        if i>j:\n",
    "            print(i,j)\n",
    "            matrix[i][j],matrix[j][i]=matrix[j][i],matrix[i][j]\n",
    "for i in range(n):\n",
    "    for j in range(n//2):\n",
    "        matrix[i][j],matrix[i][n-j-1]=matrix[i][n-j-1],matrix[i][j]\n",
    "\n",
    "matrix\n",
    "# o(n**2),o(1)"
   ]
  },
  {
   "cell_type": "markdown",
   "id": "ee2bd0dd",
   "metadata": {},
   "source": [
    "return numbers of matrix in spiral order"
   ]
  },
  {
   "cell_type": "code",
   "execution_count": 15,
   "id": "14e13621",
   "metadata": {},
   "outputs": [],
   "source": [
    "matrix = [[1,2,3,4],\n",
    "          [5,6,7,8],\n",
    "          [9,10,11,12]]\n",
    "n=len(matrix)\n",
    "m=len(matrix[0])"
   ]
  },
  {
   "cell_type": "code",
   "execution_count": null,
   "id": "23537e48",
   "metadata": {},
   "outputs": [
    {
     "name": "stdout",
     "output_type": "stream",
     "text": [
      "1\n",
      "2\n",
      "3\n",
      "4\n",
      "1 2 0 3\n",
      "8\n",
      "12\n",
      "1 2 0 2\n",
      "11\n",
      "10\n",
      "9\n",
      "1 1 0 2\n",
      "5\n",
      "1 1 1 2\n",
      "6\n",
      "7\n",
      "2 1 1 2\n",
      "2 1 1 1\n",
      "6\n",
      "2 0 1 1\n",
      "2 0 2 1\n"
     ]
    }
   ],
   "source": [
    "top=0\n",
    "bottom=n-1\n",
    "left=0\n",
    "right=m-1\n",
    "while top<=bottom and left<=right:\n",
    "    for j in range(left,right+1):\n",
    "        print(matrix[top][j])\n",
    "    top+=1\n",
    "    print(top,bottom,left,right)\n",
    "    for i in range(top,bottom+1):\n",
    "        print(matrix[i][right])\n",
    "    right-=1\n",
    "    print(top,bottom,left,right)\n",
    "    for j in range(right,left-1,-1):\n",
    "        print(matrix[bottom][j])\n",
    "    bottom-=1\n",
    "    print(top,bottom,left,right)\n",
    "    for i in range(bottom,top-1,-1):\n",
    "        print(matrix[i][left])\n",
    "    left+=1\n",
    "    print(top,bottom,left,right)\n",
    "    "
   ]
  }
 ],
 "metadata": {
  "kernelspec": {
   "display_name": "Python 3",
   "language": "python",
   "name": "python3"
  },
  "language_info": {
   "codemirror_mode": {
    "name": "ipython",
    "version": 3
   },
   "file_extension": ".py",
   "mimetype": "text/x-python",
   "name": "python",
   "nbconvert_exporter": "python",
   "pygments_lexer": "ipython3",
   "version": "3.11.9"
  }
 },
 "nbformat": 4,
 "nbformat_minor": 5
}
